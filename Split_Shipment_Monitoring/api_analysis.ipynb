{
 "cells": [
  {
   "cell_type": "code",
   "execution_count": 1,
   "id": "c0978ea8",
   "metadata": {},
   "outputs": [
    {
     "ename": "NameError",
     "evalue": "name 'glob' is not defined",
     "output_type": "error",
     "traceback": [
      "\u001b[31m---------------------------------------------------------------------------\u001b[39m",
      "\u001b[31mNameError\u001b[39m                                 Traceback (most recent call last)",
      "\u001b[36mCell\u001b[39m\u001b[36m \u001b[39m\u001b[32mIn[1]\u001b[39m\u001b[32m, line 26\u001b[39m\n\u001b[32m     23\u001b[39m     \u001b[38;5;28;01mreturn\u001b[39;00m requests\n\u001b[32m     25\u001b[39m \u001b[38;5;66;03m# Analyze Postman collections\u001b[39;00m\n\u001b[32m---> \u001b[39m\u001b[32m26\u001b[39m postman_files = \u001b[43mglob\u001b[49m.glob(\u001b[33m\"\u001b[39m\u001b[33m./*.postman_collection.json\u001b[39m\u001b[33m\"\u001b[39m)\n\u001b[32m     27\u001b[39m \u001b[38;5;28;01mif\u001b[39;00m postman_files:\n\u001b[32m     28\u001b[39m     \u001b[38;5;28;01mfor\u001b[39;00m file \u001b[38;5;129;01min\u001b[39;00m postman_files:\n",
      "\u001b[31mNameError\u001b[39m: name 'glob' is not defined"
     ]
    }
   ],
   "source": [
    "def analyze_postman_collection(file_path):\n",
    "    \"\"\"Analyze Postman collection to understand API usage\"\"\"\n",
    "    with open(file_path, 'r') as f:\n",
    "        collection = json.load(f)\n",
    "    \n",
    "    requests = []\n",
    "    \n",
    "    def extract_requests(items):\n",
    "        for item in items:\n",
    "            if 'request' in item:\n",
    "                requests.append({\n",
    "                    'name': item.get('name', 'Unnamed'),\n",
    "                    'method': item['request'].get('method', 'Unknown'),\n",
    "                    'url': item['request'].get('url', {}).get('raw', 'Unknown')\n",
    "                    if isinstance(item['request'].get('url', {}), dict) else item['request'].get('url', 'Unknown')\n",
    "                })\n",
    "            if 'item' in item:\n",
    "                extract_requests(item['item'])\n",
    "    \n",
    "    if 'item' in collection:\n",
    "        extract_requests(collection['item'])\n",
    "    \n",
    "    return requests\n",
    "\n",
    "# Analyze Postman collections\n",
    "postman_files = glob.glob(\"./*.postman_collection.json\")\n",
    "if postman_files:\n",
    "    for file in postman_files:\n",
    "        print(f\"\\nAnalyzing Postman collection: {file}\")\n",
    "        requests = analyze_postman_collection(file)\n",
    "        print(f\"Found {len(requests)} requests:\")\n",
    "        for req in requests[:10]:  # Show first 10 to avoid clutter\n",
    "            print(f\"- [{req['method']}] {req['name']}: {req['url']}\")\n",
    "        if len(requests) > 10:\n",
    "            print(f\"... and {len(requests) - 10} more\")"
   ]
  }
 ],
 "metadata": {
  "kernelspec": {
   "display_name": "Python 3",
   "language": "python",
   "name": "python3"
  },
  "language_info": {
   "codemirror_mode": {
    "name": "ipython",
    "version": 3
   },
   "file_extension": ".py",
   "mimetype": "text/x-python",
   "name": "python",
   "nbconvert_exporter": "python",
   "pygments_lexer": "ipython3",
   "version": "3.11.9"
  }
 },
 "nbformat": 4,
 "nbformat_minor": 5
}
