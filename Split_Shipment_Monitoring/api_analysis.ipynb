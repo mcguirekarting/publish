{
 "cells": [
  {
   "cell_type": "code",
   "execution_count": 1,
   "id": "c0978ea8",
   "metadata": {},
   "outputs": [
    {
     "name": "stdout",
     "output_type": "stream",
     "text": [
      "\n",
      "Analyzing Postman collection: c:\\Users\\mcgui\\Downloads\\Support.postman_collection (1).json\n",
      "Found 38 requests:\n",
      "- [POST] text search Copy: {{url}}/xint/api/tranlog/status/summary\n",
      "- [POST] Item xnt search Item by org: {{url}}/xint/api/tranlog/status/summary\n",
      "- [POST] Inventory sync xnt inbound search supplysync Copy: {{url}}/xint/api/tranlog/status/summary\n",
      "- [POST] Inventory sync xnt search outbound sync  online Copy: {{url}}/xint/api/tranlog/status/summary\n",
      "- [POST] MAWM inprocess timerange: {{url}}/xint/api/tranlog/status/summary\n",
      "- [GET] GetOrder: {{url}}/order/api/order/order/orderId/BGJT23041301\n",
      "- [POST] reservation request search detail: {{url}}/inventory/api/inventory/reservationRequest/reservationRequestDetail/search\n",
      "- [GET] Get promise request - inv reservation: {{url}}/inventory/api/inventory/reservationRequest/requestId/34604544\n",
      "- [GET] Get  reservation (mao order): {{url}}/inventory/api/inventory/reservationRequest/requestId/EX12004736\n",
      "- [POST] Inv Supply Search: {{url}}/inventory/api/inventory/supply/search\n",
      "... and 28 more\n"
     ]
    }
   ],
   "source": [
    "import json\n",
    "import glob\n",
    "\n",
    "def analyze_postman_collection(file_path):\n",
    "    \"\"\"Analyze Postman collection to understand API usage\"\"\"\n",
    "    with open(file_path, 'r') as f:\n",
    "        collection = json.load(f)\n",
    "    \n",
    "    requests = []\n",
    "    \n",
    "    def extract_requests(items):\n",
    "        for item in items:\n",
    "            if 'request' in item:\n",
    "                requests.append({\n",
    "                    'name': item.get('name', 'Unnamed'),\n",
    "                    'method': item['request'].get('method', 'Unknown'),\n",
    "                    'url': item['request'].get('url', {}).get('raw', 'Unknown')\n",
    "                    if isinstance(item['request'].get('url', {}), dict) else item['request'].get('url', 'Unknown')\n",
    "                })\n",
    "            if 'item' in item:\n",
    "                extract_requests(item['item'])\n",
    "    \n",
    "    if 'item' in collection:\n",
    "        extract_requests(collection['item'])\n",
    "    \n",
    "    return requests\n",
    "\n",
    "# Analyze the specific Postman collection file\n",
    "file_path = r\"c:\\Users\\mcgui\\Downloads\\Support.postman_collection (1).json\"\n",
    "print(f\"\\nAnalyzing Postman collection: {file_path}\")\n",
    "requests = analyze_postman_collection(file_path)\n",
    "print(f\"Found {len(requests)} requests:\")\n",
    "for req in requests[:10]:  # Show first 10 to avoid clutter\n",
    "    print(f\"- [{req['method']}] {req['name']}: {req['url']}\")\n",
    "if len(requests) > 10:\n",
    "    print(f\"... and {len(requests) - 10} more\")"
   ]
  }
 ],
 "metadata": {
  "kernelspec": {
   "display_name": "Python 3",
   "language": "python",
   "name": "python3"
  },
  "language_info": {
   "codemirror_mode": {
    "name": "ipython",
    "version": 3
   },
   "file_extension": ".py",
   "mimetype": "text/x-python",
   "name": "python",
   "nbconvert_exporter": "python",
   "pygments_lexer": "ipython3",
   "version": "3.11.9"
  }
 },
 "nbformat": 4,
 "nbformat_minor": 5
}
