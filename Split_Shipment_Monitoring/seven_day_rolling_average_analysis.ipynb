{
 "cells": [
  {
   "cell_type": "code",
   "execution_count": 1,
   "id": "7a1d2b51",
   "metadata": {},
   "outputs": [
    {
     "ename": "ModuleNotFoundError",
     "evalue": "No module named 'seaborn'",
     "output_type": "error",
     "traceback": [
      "\u001b[31m---------------------------------------------------------------------------\u001b[39m",
      "\u001b[31mModuleNotFoundError\u001b[39m                       Traceback (most recent call last)",
      "\u001b[36mCell\u001b[39m\u001b[36m \u001b[39m\u001b[32mIn[1]\u001b[39m\u001b[32m, line 3\u001b[39m\n\u001b[32m      1\u001b[39m \u001b[38;5;28;01mimport\u001b[39;00m\u001b[38;5;250m \u001b[39m\u001b[34;01mpandas\u001b[39;00m\u001b[38;5;250m \u001b[39m\u001b[38;5;28;01mas\u001b[39;00m\u001b[38;5;250m \u001b[39m\u001b[34;01mpd\u001b[39;00m\n\u001b[32m      2\u001b[39m \u001b[38;5;28;01mimport\u001b[39;00m\u001b[38;5;250m \u001b[39m\u001b[34;01mmatplotlib\u001b[39;00m\u001b[34;01m.\u001b[39;00m\u001b[34;01mpyplot\u001b[39;00m\u001b[38;5;250m \u001b[39m\u001b[38;5;28;01mas\u001b[39;00m\u001b[38;5;250m \u001b[39m\u001b[34;01mplt\u001b[39;00m\n\u001b[32m----> \u001b[39m\u001b[32m3\u001b[39m \u001b[38;5;28;01mimport\u001b[39;00m\u001b[38;5;250m \u001b[39m\u001b[34;01mseaborn\u001b[39;00m\u001b[38;5;250m \u001b[39m\u001b[38;5;28;01mas\u001b[39;00m\u001b[38;5;250m \u001b[39m\u001b[34;01msns\u001b[39;00m\n\u001b[32m      5\u001b[39m \u001b[38;5;66;03m# Mock function to load data (replace with actual data loading)\u001b[39;00m\n\u001b[32m      6\u001b[39m \u001b[38;5;28;01mdef\u001b[39;00m\u001b[38;5;250m \u001b[39m\u001b[34mload_split_shipment_data\u001b[39m():\n",
      "\u001b[31mModuleNotFoundError\u001b[39m: No module named 'seaborn'"
     ]
    }
   ],
   "source": [
    "import pandas as pd\n",
    "import matplotlib.pyplot as plt\n",
    "import seaborn as sns\n",
    "\n",
    "# Mock function to load data (replace with actual data loading)\n",
    "def load_split_shipment_data():\n",
    "    \"\"\"Load split shipment data from a file or API\"\"\"\n",
    "    try:\n",
    "        # Try to load from a CSV file if available\n",
    "        return pd.read_csv(\"./sample_data/split_shipments.csv\")\n",
    "    except:\n",
    "        # If not available, create mock data\n",
    "        import numpy as np\n",
    "        dates = pd.date_range(start='2023-01-01', periods=30)\n",
    "        data = {\n",
    "            'date': dates,\n",
    "            'organization': ['NM'] * 30,\n",
    "            'total_orders': np.random.randint(100, 500, 30),\n",
    "            'split_orders': np.random.randint(10, 100, 30)\n",
    "        }\n",
    "        df = pd.DataFrame(data)\n",
    "        df['split_rate'] = (df['split_orders'] / df['total_orders'] * 100).round(2)\n",
    "        return df\n",
    "\n",
    "# Load data\n",
    "split_data = load_split_shipment_data()\n",
    "\n",
    "# Display summary statistics\n",
    "print(\"Summary Statistics:\")\n",
    "print(split_data.describe())\n",
    "\n",
    "# Visualize split rate trend\n",
    "plt.figure(figsize=(12, 6))\n",
    "sns.lineplot(data=split_data, x='date', y='split_rate')\n",
    "plt.title('Split Shipment Rate Trend')\n",
    "plt.ylabel('Split Rate (%)')\n",
    "plt.xticks(rotation=45)\n",
    "plt.tight_layout()\n",
    "plt.show()\n",
    "\n",
    "# Calculate 7-day rolling average\n",
    "if len(split_data) >= 7:\n",
    "    split_data['7_day_avg'] = split_data['split_rate'].rolling(window=7).mean()\n",
    "    \n",
    "    plt.figure(figsize=(12, 6))\n",
    "    sns.lineplot(data=split_data, x='date', y='split_rate', label='Daily')\n",
    "    sns.lineplot(data=split_data, x='date', y='7_day_avg', label='7-day Avg')\n",
    "    plt.title('Split Shipment Rate Trend with Rolling Average')\n",
    "    plt.ylabel('Split Rate (%)')\n",
    "    plt.xticks(rotation=45)\n",
    "    plt.legend()\n",
    "    plt.tight_layout()\n",
    "    plt.show()"
   ]
  }
 ],
 "metadata": {
  "kernelspec": {
   "display_name": "Python 3",
   "language": "python",
   "name": "python3"
  },
  "language_info": {
   "codemirror_mode": {
    "name": "ipython",
    "version": 3
   },
   "file_extension": ".py",
   "mimetype": "text/x-python",
   "name": "python",
   "nbconvert_exporter": "python",
   "pygments_lexer": "ipython3",
   "version": "3.11.9"
  }
 },
 "nbformat": 4,
 "nbformat_minor": 5
}
